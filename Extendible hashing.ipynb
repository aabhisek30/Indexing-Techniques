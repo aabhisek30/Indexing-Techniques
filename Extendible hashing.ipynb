{
 "cells": [
  {
   "cell_type": "code",
   "execution_count": 16,
   "metadata": {
    "colab": {
     "base_uri": "https://localhost:8080/"
    },
    "id": "vyB-gnwxs2Ub",
    "outputId": "d6fc7ad9-2d0b-4b81-8474-319ba9ce3a2c"
   },
   "outputs": [],
   "source": [
    "def dec_to_bin(x):\n",
    "    \"\"\"\n",
    "    This function converts number from decimal format to binary format\n",
    "    \"\"\"\n",
    "    binary_number = str()\n",
    "    binary_number = bin(x)[2:]\n",
    "    if len(binary_number) != global_depth:\n",
    "         binary_number = \"0\"*(global_depth-len(binary_number)) + binary_number\n",
    "    return binary_number"
   ]
  },
  {
   "cell_type": "code",
   "execution_count": 17,
   "metadata": {
    "colab": {
     "base_uri": "https://localhost:8080/"
    },
    "id": "mVUcl_8vs2Uo",
    "outputId": "d9970b98-0775-47c1-b771-6b562b3c61e8"
   },
   "outputs": [],
   "source": [
    "def hash_value(value):\n",
    "    \"\"\"\n",
    "    This function returns hash value corresponding to the entry\n",
    "    \"\"\"\n",
    "    global global_depth\n",
    "    entry_in_directory = 2**global_depth\n",
    "    return (value % entry_in_directory)"
   ]
  },
  {
   "cell_type": "code",
   "execution_count": 18,
   "metadata": {
    "id": "33M7egY7s2Up"
   },
   "outputs": [],
   "source": [
    "def display():\n",
    "    \"\"\"\n",
    "    This functions display index structure\n",
    "    \"\"\"\n",
    "    for key,value in data.items():\n",
    "        print(key,value)"
   ]
  },
  {
   "cell_type": "code",
   "execution_count": 19,
   "metadata": {
    "id": "WX85WnEns2Uq"
   },
   "outputs": [],
   "source": [
    "def new_bucket_in_dir(key):\n",
    "    \"\"\"\n",
    "    This functions makes new bucket in the directory\n",
    "    \"\"\"\n",
    "    del data[key]\n",
    "    del local_depth[key]\n",
    "    new_index1 = key + \"0\"\n",
    "    new_index2 = key + \"1\"\n",
    "    data[new_index1] = []\n",
    "    data[new_index2] = []\n",
    "    local_depth[new_index1] = []\n",
    "    local_depth[new_index2] = []\n",
    "    directory[new_index1] = new_index1\n",
    "    directory[new_index2] = new_index2"
   ]
  },
  {
   "cell_type": "code",
   "execution_count": 20,
   "metadata": {
    "id": "WmbZR7rqs2Us"
   },
   "outputs": [],
   "source": [
    "def new_directory(split_key):\n",
    "    \"\"\"\n",
    "    This function makes new dirctory and handles data shift\n",
    "    \"\"\"\n",
    "    directory_copy = directory.copy()\n",
    "    global global_depth\n",
    "    global_depth = global_depth + 1\n",
    "    for key in directory_copy.keys():\n",
    "        new_key1 = \"0\"+ key \n",
    "        new_key2 = \"1\" + key \n",
    "        if split_key == key:\n",
    "            directory[new_key1] = new_key1\n",
    "            directory[new_key2] = new_key2\n",
    "            data[new_key1] = []\n",
    "            data[new_key2] = []\n",
    "            temp_list = data[key]\n",
    "            bucket_split_insertion(temp_list)\n",
    "            local_depth[new_key1] = local_depth[key] + 1\n",
    "            local_depth[new_key2] = local_depth[key] + 1\n",
    "            del local_depth[key]\n",
    "            del data[key]\n",
    "        else:\n",
    "            directory[new_key1] = key\n",
    "            directory[new_key2] = key \n",
    "        del directory[key]\n",
    "    del directory_copy"
   ]
  },
  {
   "cell_type": "code",
   "execution_count": 21,
   "metadata": {
    "colab": {
     "base_uri": "https://localhost:8080/"
    },
    "id": "XjrvhmS6uuOJ",
    "outputId": "aabb75eb-f0cb-43a3-9822-7d8aacfadc24"
   },
   "outputs": [],
   "source": [
    "def bucket_split_insertion(temp_list):\n",
    "    \"\"\"\n",
    "    This function splits buckets into two parts and shifts data into corresponding buckets\n",
    "    \"\"\"\n",
    "    for i in range(len(temp_list)):\n",
    "        index = hash_value(temp_list[i])\n",
    "        binary_index = dec_to_bin(index)\n",
    "        data[binary_index].append(temp_list[i])"
   ]
  },
  {
   "cell_type": "code",
   "execution_count": 22,
   "metadata": {
    "id": "jjd-4_ZUs2Ut"
   },
   "outputs": [],
   "source": [
    "def store_to_function(value):\n",
    "    \"\"\"\n",
    "    This program insert data to correct hash value. After inserting value it check wheher number of element in bucket are equal to\n",
    "    bucket size. If equal, than it check local depth bucket and global bucket. If both are equal, it calls new_directory to make \n",
    "    new directory else calls bucket_split_insertion to split bucket.\n",
    "    \"\"\"\n",
    "    index = hash_value(value)\n",
    "    binary_index = dec_to_bin(index)           \n",
    "    key = directory[binary_index]\n",
    "    data[key].append(value)\n",
    "    if len(data[key]) == bucket_size:\n",
    "        local_depth_bucket = local_depth[key]\n",
    "        if local_depth_bucket<global_depth:\n",
    "            new_key1 = \"0\"+ key \n",
    "            new_key2 = \"1\" + key \n",
    "            data[new_key1] = []\n",
    "            data[new_key2] = []\n",
    "            temp_list = data[key]\n",
    "            bucket_split_insertion(temp_list)\n",
    "            local_depth[new_key1] = local_depth[key] + 1\n",
    "            local_depth[new_key2] = local_depth[key] + 1\n",
    "            del local_depth[key]\n",
    "            del data[key]\n",
    "        elif local_depth_bucket == global_depth:\n",
    "            new_directory(key)"
   ]
  },
  {
   "cell_type": "code",
   "execution_count": 23,
   "metadata": {
    "id": "W67hhIZTs2Uu"
   },
   "outputs": [],
   "source": [
    "def insert():\n",
    "    \"\"\"\n",
    "    This function takes input to insert in the index structure, calls store_to_function to store and display index structure after value is inserted\n",
    "    \"\"\"\n",
    "    store_to_function(value)\n",
    "    print(\"data after inserting\")\n",
    "    display()\n",
    "    input_type()"
   ]
  },
  {
   "cell_type": "code",
   "execution_count": 24,
   "metadata": {
    "id": "bvIpVotvs2Uu"
   },
   "outputs": [],
   "source": [
    "def input_type():\n",
    "    \"\"\"\n",
    "    This is the menu driver of the program\n",
    "    \"\"\"\n",
    "    input_num = int(input(\"enter 1 to insert or 2 to print or 3 to quit \"))\n",
    "    if input_num == 1:\n",
    "        insert()\n",
    "    elif input_num == 2:\n",
    "        display()\n",
    "    else:\n",
    "        return"
   ]
  },
  {
   "cell_type": "code",
   "execution_count": 25,
   "metadata": {
    "colab": {
     "base_uri": "https://localhost:8080/"
    },
    "id": "z3tCPvf5s2Uv",
    "outputId": "ae96e31a-8f3c-4327-cb9f-3908df8373ad"
   },
   "outputs": [
    {
     "name": "stdout",
     "output_type": "stream",
     "text": [
      "enter the bucket_size 4\n",
      "Initial situation\n",
      "0 []\n",
      "1 []\n",
      "enter 1 to insert or 2 to print or 3 to quit 1\n",
      "enter the number for inserting 16\n",
      "data after inserting\n",
      "0 [16]\n",
      "1 []\n",
      "enter 1 to insert or 2 to print or 3 to quit 1\n",
      "enter the number for inserting 4\n",
      "data after inserting\n",
      "0 [16, 4]\n",
      "1 []\n",
      "enter 1 to insert or 2 to print or 3 to quit 1\n",
      "enter the number for inserting 6\n",
      "data after inserting\n",
      "0 [16, 4, 6]\n",
      "1 []\n",
      "enter 1 to insert or 2 to print or 3 to quit 1\n",
      "enter the number for inserting 22\n",
      "data after inserting\n",
      "1 []\n",
      "00 [16, 4]\n",
      "10 [6, 22]\n",
      "enter 1 to insert or 2 to print or 3 to quit 1\n",
      "enter the number for inserting 24\n",
      "data after inserting\n",
      "1 []\n",
      "00 [16, 4, 24]\n",
      "10 [6, 22]\n",
      "enter 1 to insert or 2 to print or 3 to quit 1\n",
      "enter the number for inserting 10\n",
      "data after inserting\n",
      "1 []\n",
      "00 [16, 4, 24]\n",
      "10 [6, 22, 10]\n",
      "enter 1 to insert or 2 to print or 3 to quit 1\n",
      "enter the number for inserting 31\n",
      "data after inserting\n",
      "1 [31]\n",
      "00 [16, 4, 24]\n",
      "10 [6, 22, 10]\n",
      "enter 1 to insert or 2 to print or 3 to quit 1\n",
      "enter the number for inserting 7\n",
      "data after inserting\n",
      "1 [31, 7]\n",
      "00 [16, 4, 24]\n",
      "10 [6, 22, 10]\n",
      "enter 1 to insert or 2 to print or 3 to quit 1\n",
      "enter the number for inserting 9\n",
      "data after inserting\n",
      "1 [31, 7, 9]\n",
      "00 [16, 4, 24]\n",
      "10 [6, 22, 10]\n",
      "enter 1 to insert or 2 to print or 3 to quit 1\n",
      "enter the number for inserting 20\n",
      "data after inserting\n",
      "1 [31, 7, 9]\n",
      "10 [6, 22, 10]\n",
      "000 [16, 24]\n",
      "100 [4, 20]\n",
      "enter 1 to insert or 2 to print or 3 to quit 1\n",
      "enter the number for inserting 26\n",
      "data after inserting\n",
      "1 [31, 7, 9]\n",
      "000 [16, 24]\n",
      "100 [4, 20]\n",
      "010 [10, 26]\n",
      "110 [6, 22]\n",
      "enter 1 to insert or 2 to print or 3 to quit 3\n"
     ]
    }
   ],
   "source": [
    "global bucket_size\n",
    "global global_depth\n",
    "global directory\n",
    "global local_depth\n",
    "global data\n",
    "bucket_size = int(input(\"enter the bucket_size \"))\n",
    "global_depth = 1\n",
    "local_depth = {\"0\":1,\"1\":1}\n",
    "data = {\"0\":[],\"1\":[]}\n",
    "directory = {\"0\":\"0\",\"1\":\"1\"}\n",
    "print(\"Initial situation\")\n",
    "display()\n",
    "input_type()"
   ]
  }
 ],
 "metadata": {
  "colab": {
   "name": "Extendible_hashing_new.ipynb",
   "provenance": []
  },
  "kernelspec": {
   "display_name": "Python 3",
   "language": "python",
   "name": "python3"
  },
  "language_info": {
   "codemirror_mode": {
    "name": "ipython",
    "version": 3
   },
   "file_extension": ".py",
   "mimetype": "text/x-python",
   "name": "python",
   "nbconvert_exporter": "python",
   "pygments_lexer": "ipython3",
   "version": "3.8.3"
  }
 },
 "nbformat": 4,
 "nbformat_minor": 1
}
