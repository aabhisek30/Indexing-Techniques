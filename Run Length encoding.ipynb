{
 "cells": [
  {
   "cell_type": "code",
   "execution_count": 2,
   "metadata": {},
   "outputs": [],
   "source": [
    "def dec_to_bin(x):\n",
    "    \"\"\"\n",
    "    This function converts number from decimal format to binary format\n",
    "    \"\"\"\n",
    "    return int(bin(x)[2:])"
   ]
  },
  {
   "cell_type": "code",
   "execution_count": 3,
   "metadata": {},
   "outputs": [],
   "source": [
    "def bin_to_deci(n): \n",
    "    \"\"\"\n",
    "    This function converts number from decimal format to binary format\n",
    "    \"\"\"\n",
    "    return int(n,2) "
   ]
  },
  {
   "cell_type": "code",
   "execution_count": 8,
   "metadata": {},
   "outputs": [],
   "source": [
    "import math \n",
    "def encode():\n",
    "    \"\"\"\n",
    "    This function encodes the data in run length encoding format\n",
    "    \"\"\"\n",
    "    sequence = input(\"Enter the string seq \")\n",
    "    print(\"****************************************************************************\")\n",
    "    print(\"Entered sequence is \",sequence)\n",
    "    sequence = sequence + \"0\"\n",
    "    count_0 = 0\n",
    "    encoded_seq = str()\n",
    "    for i in range(len(sequence)):\n",
    "        if int(sequence[i])==0:\n",
    "            count_0 +=1\n",
    "        elif (int(sequence[i])==1 and int(sequence[i+1])==0 and count_0==0):\n",
    "            encoded_seq += \"00\"\n",
    "        elif (int(sequence[i])==1 and count_0==1):\n",
    "            encoded_seq += \"01\"\n",
    "        elif (int(sequence[i])==1 and count_0!=0):\n",
    "            binary_value = str(dec_to_bin(count_0))\n",
    "            encode_j = (math.ceil(math.log(len(binary_value)))) \n",
    "            count_0 = 0\n",
    "            part_1 = \"1\"*encode_j + \"0\"\n",
    "            encoded_seq = encoded_seq + part_1 + binary_value\n",
    "    return encoded_seq"
   ]
  },
  {
   "cell_type": "code",
   "execution_count": 9,
   "metadata": {},
   "outputs": [],
   "source": [
    "def decode():\n",
    "    \"\"\"\n",
    "    This function decodes data from run length encoding to normal binary format\n",
    "    \"\"\"\n",
    "    sequence = input(\"Enter the string seq \")\n",
    "    print(\"****************************************************************************\")\n",
    "    print(\"Entered sequence is \",sequence)\n",
    "    count_1 = 0\n",
    "    decoded_seq = str()\n",
    "    i = 0 \n",
    "    while i!=len(sequence):\n",
    "        if int(sequence[i])==1:\n",
    "            count_1 +=1\n",
    "            i=i+1\n",
    "        elif (int(sequence[i])==0 and int(sequence[i+1])==0 and count_1==0 and int(sequence[i+2])==1):\n",
    "            decoded_seq += \"1\"\n",
    "            i=i+2\n",
    "        elif (int(sequence[i])==0 and int(sequence[i+1])==1 and count_1==0):\n",
    "            decoded_seq += \"00\"\n",
    "            i=i+2\n",
    "        elif (int(sequence[i])==0 and count_1!=0):\n",
    "            loop_jump = count_1 +1\n",
    "            binary_part = sequence[i+1:i+loop_jump+1] \n",
    "            if binary_part!=str():\n",
    "                decimal_value= bin_to_deci(binary_part)\n",
    "                part1 = \"0\"*decimal_value + \"1\"\n",
    "                decoded_seq += part1\n",
    "                count_1=0\n",
    "                i = i + loop_jump + 1\n",
    "    return decoded_seq"
   ]
  },
  {
   "cell_type": "code",
   "execution_count": 12,
   "metadata": {},
   "outputs": [
    {
     "name": "stdout",
     "output_type": "stream",
     "text": [
      "Enter 1 to encode,2 to decode and 3 to quit 2\n",
      "Enter the string seq 001101111011\n",
      "****************************************************************************\n",
      "Entered sequence is  001101111011\n",
      "*************************************************************\n",
      "Decoded string is\n",
      "1000000010001\n"
     ]
    }
   ],
   "source": [
    "def input_function():\n",
    "    \"\"\"\n",
    "    This function is Menu driver giving user option to encode , decode and quit\n",
    "    \"\"\"\n",
    "    input_type = int(input(\"Enter 1 to encode,2 to decode and 3 to quit \"))\n",
    "    if input_type == 1:\n",
    "        x = encode()\n",
    "        print(\"*************************************************************\")\n",
    "        print(\"Encoded string is\")\n",
    "        print(x)\n",
    "    elif input_type == 2:\n",
    "        x=decode()\n",
    "        print(\"*************************************************************\")\n",
    "        print(\"Decoded string is\")\n",
    "        print(x)\n",
    "    else:\n",
    "        return\n",
    "input_function()"
   ]
  }
 ],
 "metadata": {
  "kernelspec": {
   "display_name": "Python 3",
   "language": "python",
   "name": "python3"
  },
  "language_info": {
   "codemirror_mode": {
    "name": "ipython",
    "version": 3
   },
   "file_extension": ".py",
   "mimetype": "text/x-python",
   "name": "python",
   "nbconvert_exporter": "python",
   "pygments_lexer": "ipython3",
   "version": "3.8.3"
  }
 },
 "nbformat": 4,
 "nbformat_minor": 4
}
